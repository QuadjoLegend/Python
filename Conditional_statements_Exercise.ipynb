{
 "cells": [
  {
   "cell_type": "markdown",
   "metadata": {},
   "source": [
    "<div align=\"center\" style=\" font-size: 80%; text-align: center; margin: 0 auto\">\n",
    "<img src=\"https://raw.githubusercontent.com/Explore-AI/Pictures/master/Python-Notebook-Banners/Exercise.png\"  style=\"display: block; margin-left: auto; margin-right: auto;\";/>\n",
    "</div>"
   ],
   "id": "868e6003eb720278"
  },
  {
   "cell_type": "markdown",
   "id": "1ceab647",
   "metadata": {},
   "source": [
    "# Exercise: Conditional statements\n",
    ""
   ]
  },
  {
   "cell_type": "markdown",
   "id": "e80e6089",
   "metadata": {},
   "source": [
    "In this exercise, we practise using various conditional statements to solve problems."
   ]
  },
  {
   "cell_type": "markdown",
   "metadata": {},
   "source": [
    "## Learning objectives\n",
    "\n",
    "In this train, we will practise:\n",
    "- Using `if`, `elif`, `else`, and nested conditions to make decisions in Python.\n",
    "- Applying logical and ternary operators for efficient conditional logic."
   ],
   "id": "2acea79eeed503f1"
  },
  {
   "cell_type": "markdown",
   "metadata": {},
   "source": [
    "## Exercises"
   ],
   "id": "d2b03ef582641cb2"
  },
  {
   "cell_type": "markdown",
   "id": "51ad27d2",
   "metadata": {},
   "source": [
    "### Exercise 1\n",
    "\n",
    "Use conditional statements to categorise an animal based on its risk status. The program should define a variable, `individuals_in_wild` (representing the number of individuals in the wild), and use it to print the correct response based on the following categories: \n",
    "- `\"Critically Endangered\"` for less than `1000` individuals. \n",
    "- `\"Endangered\"` for `1000` to `5000` individuals. \n",
    "- `\"Vulnerable\"` for `5001` to `20000` individuals. \n",
    "- `\"Safe\"` for more than `20000` individuals.\n",
    "\n",
    "Assume there are `5500` leopards left in South Africa. Assign this number to `individuals_in_wild` and note what category they fall under."
   ]
  },
  {
   "cell_type": "code",
   "metadata": {
    "ExecuteTime": {
     "end_time": "2025-10-14T16:11:25.285325Z",
     "start_time": "2025-10-14T16:11:25.276551Z"
    }
   },
   "source": [
    "# insert code here\n",
    "individuals_in_wild = 5500\n",
    "\n",
    "if individuals_in_wild < 1000:\n",
    "    print(\"Critically Endangered\")\n",
    "elif individuals_in_wild <= 5000:\n",
    "    print(\"Endangered\")\n",
    "elif individuals_in_wild <= 20000:\n",
    "    print(\"Vulnerable\")\n",
    "else:\n",
    "    print(\"Safe\")"
   ],
   "id": "fbc4b58e753b650",
   "outputs": [
    {
     "name": "stdout",
     "output_type": "stream",
     "text": [
      "Vulnerable\n"
     ]
    }
   ],
   "execution_count": 11
  },
  {
   "cell_type": "markdown",
   "id": "e15cb96e",
   "metadata": {},
   "source": [
    "### Exercise 2\n",
    "\n",
    " Use conditional statements to determine if a region is experiencing water scarcity. The program should store two variables: `rainfall` (the average annual rainfall in mm) and `population_density` (people per square km). It should print the appropriate message based on the following criteria to determine water scarcity:\n",
    "\n",
    "- `\"Severe Scarcity\"` if rainfall is less than `500`mm and population density is more than `500` people per square km.\n",
    "- `\"Moderate Scarcity\"` if both of the following are true:\n",
    "    - Rainfall is between `500`mm and `1000`mm, inclusive.\n",
    "    - Population density is between `200` and `500`, inclusive.\n",
    "- `\"No Scarcity\"` otherwise.\n",
    "\n",
    "Assume the annual `rainfall` is `205`mm and the `population_density` is `448` per square km."
   ]
  },
  {
   "cell_type": "code",
   "metadata": {
    "ExecuteTime": {
     "end_time": "2025-10-14T16:44:02.566103Z",
     "start_time": "2025-10-14T16:44:02.557961Z"
    }
   },
   "source": [
    "# insert code here\n",
    "rainfall = 205\n",
    "population_density = 448\n",
    "\n",
    "if rainfall < 500 < population_density:\n",
    "    print(\"Severe Scarcity\")\n",
    "elif rainfall <= 1000 and 200 >= population_density <= 500:\n",
    "    print(\"Moderate Scarcity\")\n",
    "else:\n",
    "    print(\"No Scarcity\")"
   ],
   "id": "71db376f5d1161a2",
   "outputs": [
    {
     "name": "stdout",
     "output_type": "stream",
     "text": [
      "No Scarcity\n"
     ]
    }
   ],
   "execution_count": 13
  },
  {
   "cell_type": "markdown",
   "id": "926e46eb",
   "metadata": {},
   "source": [
    "### Exercise 3\n",
    "\n",
    "To assist a recycling initiative, write code that will categorise items based on their `material` type and `size`, and output the category of recycling.\n",
    "\n",
    "The program should store two variables, `material` and `size`, which can have 4 and 3 possible values, respectively:\n",
    "- `material` – possible inputs: `\"paper\"`, `\"plastic\"`, `\"metal\"`, `\"glass\"`\n",
    "- `size` – possible inputs: `\"small\"`, `\"medium\"`, `\"large\"`\n",
    "\n",
    "Output the category of recycling: \n",
    "- `\"Special Handling\"` for large metal or glass items. \n",
    "- `\"Standard Recycling\"` for all medium-sized items and small metal or glass items. \n",
    "- `\"Composting\"` for small paper items. \n",
    "- `\"Landfill\"` for small plastic items and all other cases."
   ]
  },
  {
   "cell_type": "code",
   "metadata": {
    "ExecuteTime": {
     "end_time": "2025-10-16T09:20:00.982960Z",
     "start_time": "2025-10-16T09:20:00.961027Z"
    }
   },
   "source": [
    "# insert code here\n",
    "material = \"glass\"\n",
    "size = \"large\"\n",
    "\n",
    "if material in [\"metal\", \"glass\"] and size == \"large\":\n",
    "    print(\"Special Handling\")\n",
    "elif material not in [\"metal\", \"glass\"] and size == \"medium\" or material in [\"metal\", \"glass\"] and size == \"small\":\n",
    "    print(\"Standard Recycling\")\n",
    "elif material == \"paper\" and size == \"small\":\n",
    "    print(\"Composting\")\n",
    "elif material == \"plastic\" and size == \"small\":\n",
    "    print(\"Landfill\")\n",
    "else:\n",
    "    print(\"Landfill\")\n"
   ],
   "id": "9b91c48dd4a32ae8",
   "outputs": [
    {
     "name": "stdout",
     "output_type": "stream",
     "text": [
      "Special Handling\n"
     ]
    }
   ],
   "execution_count": 1
  },
  {
   "cell_type": "markdown",
   "id": "314b69ed",
   "metadata": {},
   "source": [
    "### Exercise 4\n",
    "\n",
    "Write a program to evaluate the use of renewable energy sources in a household. The program should define a variable `solar` that stores whether or not a household uses solar (`True` or `False` values only). If a household does not use solar, print `\"Needs Improvement\"`. Otherwise, print `\"Eco-friendly\"`.\n",
    "\n",
    "Note: You must solve this exercise using `if not`."
   ]
  },
  {
   "cell_type": "code",
   "metadata": {
    "ExecuteTime": {
     "end_time": "2025-10-16T09:34:12.081771Z",
     "start_time": "2025-10-16T09:34:12.075275Z"
    }
   },
   "source": [
    "# insert code here\n",
    "solar = False\n",
    "if solar:\n",
    "    print(\"Eco-friendly\")\n",
    "else:\n",
    "    print(\"Needs Improvement\")"
   ],
   "id": "22e7bd3fbdf38560",
   "outputs": [
    {
     "name": "stdout",
     "output_type": "stream",
     "text": [
      "Needs Improvement\n"
     ]
    }
   ],
   "execution_count": 3
  },
  {
   "cell_type": "markdown",
   "id": "fd22165c",
   "metadata": {},
   "source": [
    "### Exercise 5\n",
    "\n",
    "Write a program that issues an alert if deforestation in an area exceeds a certain threshold. Define a variable `deforestation_rate` (it can be any number between `0` and `1`). \n",
    "\n",
    "If the `deforestation_rate` is above `0.1`, print `\"High Alert\"`. If it is not, nothing should be printed."
   ]
  },
  {
   "cell_type": "code",
   "metadata": {
    "ExecuteTime": {
     "end_time": "2025-10-16T09:38:21.817655Z",
     "start_time": "2025-10-16T09:38:21.812443Z"
    }
   },
   "source": [
    "# insert code here\n",
    "deforestation_rate = 0.1\n",
    "if deforestation_rate > 0.1:\n",
    "    print(\"High Alert\")\n",
    "else:\n",
    "    pass"
   ],
   "id": "9586e7e1a3303e4d",
   "outputs": [],
   "execution_count": 9
  },
  {
   "cell_type": "markdown",
   "id": "914eba02",
   "metadata": {},
   "source": [
    "### Exercise 6\n",
    "\n",
    "Develop a program to check the air quality index (AQI).\n",
    "\n",
    "The program should define a variable `aqi` (it can be any integer value between `0` and `300`). It should then use a ternary operator to print `\"Poor Air Quality\"` if `aqi` is above `100`, or `\"Good Air Quality\"` otherwise."
   ]
  },
  {
   "cell_type": "code",
   "metadata": {
    "ExecuteTime": {
     "end_time": "2025-10-16T09:45:18.782838Z",
     "start_time": "2025-10-16T09:45:18.772099Z"
    }
   },
   "source": [
    "# insert code here\n",
    "aqi = 100\n",
    "\"Poor Air Quality\" if aqi > 100 else \"Good Air Quality\""
   ],
   "id": "d8f6740389226c70",
   "outputs": [
    {
     "data": {
      "text/plain": [
       "'Poor Air Quality'"
      ]
     },
     "execution_count": 13,
     "metadata": {},
     "output_type": "execute_result"
    }
   ],
   "execution_count": 13
  },
  {
   "cell_type": "markdown",
   "id": "dc10e22c",
   "metadata": {},
   "source": [
    "## Solutions"
   ]
  },
  {
   "cell_type": "markdown",
   "id": "b542a6ff",
   "metadata": {},
   "source": [
    "### Exercise 1"
   ]
  },
  {
   "cell_type": "code",
   "execution_count": null,
   "id": "21f4ef7b",
   "metadata": {},
   "outputs": [],
   "source": [
    "# Any number can be assigned to this variable\n",
    "individuals_in_wild = 5500\n",
    "\n",
    "# Prints vulnerability message\n",
    "if individuals_in_wild < 1000:\n",
    "    print(\"Critically Endangered\")\n",
    "elif 1000 <= individuals_in_wild <= 5000:\n",
    "    print(\"Endangered\")\n",
    "elif 5001 <= individuals_in_wild <= 20000:\n",
    "    print(\"Vulnerable\")\n",
    "else:\n",
    "    print(\"Safe\")"
   ]
  },
  {
   "cell_type": "markdown",
   "metadata": {},
   "source": [
    "Or, since our program checks our statements from top to bottom, we could code our solution more simply as follows:"
   ],
   "id": "c9cede435320074"
  },
  {
   "cell_type": "code",
   "execution_count": null,
   "metadata": {},
   "outputs": [],
   "source": [
    "individuals_in_wild = 5500\n",
    "\n",
    "if individuals_in_wild < 1000:\n",
    "    print('Critically Endangered')\n",
    "elif individuals_in_wild <= 5000:\n",
    "    print('Endangered')\n",
    "elif individuals_in_wild <= 20000:\n",
    "    print('Vulnerable')\n",
    "else:\n",
    "    print('Safe')"
   ],
   "id": "434ae6f382cc2ffd"
  },
  {
   "cell_type": "markdown",
   "id": "6cf90985",
   "metadata": {},
   "source": [
    "### Exercise 2"
   ]
  },
  {
   "cell_type": "code",
   "id": "923b1f9e",
   "metadata": {
    "ExecuteTime": {
     "end_time": "2025-10-16T09:49:02.227747Z",
     "start_time": "2025-10-16T09:49:02.193578Z"
    }
   },
   "source": [
    "# Any numbers can be assigned to these variables\n",
    "rainfall = 205\n",
    "population_density = 448\n",
    "\n",
    "# Check if there is water scarcity\n",
    "if rainfall < 500 and population_density > 500:\n",
    "    print(\"Severe Scarcity\")\n",
    "elif 500 <= rainfall <= 1000 and 200 <= population_density <= 500:\n",
    "    print(\"Moderate Scarcity\")\n",
    "else:\n",
    "    print(\"No Scarcity\")"
   ],
   "outputs": [
    {
     "name": "stdout",
     "output_type": "stream",
     "text": [
      "No Scarcity\n"
     ]
    }
   ],
   "execution_count": 15
  },
  {
   "cell_type": "markdown",
   "id": "c0afc3c4",
   "metadata": {},
   "source": [
    "### Exercise 3"
   ]
  },
  {
   "cell_type": "code",
   "id": "9610405d",
   "metadata": {
    "ExecuteTime": {
     "end_time": "2025-10-16T09:55:43.411532Z",
     "start_time": "2025-10-16T09:55:43.163970Z"
    }
   },
   "source": [
    "# Any of the specified types can be assigned to these variables\n",
    "material = \"glass\"\n",
    "size = \"large\"\n",
    "\n",
    "# Check recycling category\n",
    "if size == \"large\" and (material == \"metal\" or material == \"glass\"):\n",
    "    print(\"Special Handling\")\n",
    "elif size == \"medium\" or (size == \"small\" and (material == \"metal\" or material == \"glass\")):\n",
    "    print(\"Standard Recycling\")\n",
    "elif size == \"small\" and material == \"paper\":\n",
    "    print(\"Composting\")\n",
    "else:\n",
    "    print(\"Landfill\")"
   ],
   "outputs": [
    {
     "name": "stdout",
     "output_type": "stream",
     "text": [
      "Special Handling\n"
     ]
    }
   ],
   "execution_count": 16
  },
  {
   "cell_type": "markdown",
   "id": "85eaf823",
   "metadata": {},
   "source": [
    "### Exercise 4"
   ]
  },
  {
   "cell_type": "code",
   "id": "efd3c272",
   "metadata": {
    "ExecuteTime": {
     "end_time": "2025-10-16T09:56:23.065210Z",
     "start_time": "2025-10-16T09:56:22.928784Z"
    }
   },
   "source": [
    "# True or False can be assigned to this variable\n",
    "solar = True\n",
    "\n",
    "if not solar:\n",
    "    print(\"Needs Improvement\")\n",
    "else:\n",
    "    print(\"Eco-friendly\")"
   ],
   "outputs": [
    {
     "name": "stdout",
     "output_type": "stream",
     "text": [
      "Eco-friendly\n"
     ]
    }
   ],
   "execution_count": 17
  },
  {
   "cell_type": "markdown",
   "id": "c4c3aa20",
   "metadata": {},
   "source": [
    "### Exercise 5"
   ]
  },
  {
   "cell_type": "code",
   "id": "1ac60dcb",
   "metadata": {
    "ExecuteTime": {
     "end_time": "2025-10-16T09:56:43.062540Z",
     "start_time": "2025-10-16T09:56:43.055041Z"
    }
   },
   "source": [
    "# Any rate can be assigned to this variable\n",
    "deforestation_rate = 0.6\n",
    "\n",
    "if deforestation_rate > 0.1:\n",
    "    print(\"High Alert\")\n",
    "else:\n",
    "    pass"
   ],
   "outputs": [
    {
     "name": "stdout",
     "output_type": "stream",
     "text": [
      "High Alert\n"
     ]
    }
   ],
   "execution_count": 18
  },
  {
   "cell_type": "markdown",
   "metadata": {},
   "source": [
    "Note: The `pass` statement is technically not required here, as we would get the same behaviour if we removed the `else` statement altogether. Instead, it is just being used as a placeholder."
   ],
   "id": "d78c117aaeaafe1a"
  },
  {
   "cell_type": "markdown",
   "id": "73ddad71",
   "metadata": {},
   "source": [
    "### Exercise 6"
   ]
  },
  {
   "cell_type": "code",
   "id": "2b6b0efa",
   "metadata": {
    "ExecuteTime": {
     "end_time": "2025-10-16T09:56:52.853018Z",
     "start_time": "2025-10-16T09:56:52.841684Z"
    }
   },
   "source": [
    "# Assign any aqi value\n",
    "aqi = 77\n",
    "\n",
    "# Use a ternary operator to check air quality\n",
    "print(\"Poor Air Quality\") if aqi > 100 else print(\"Good Air Quality\")"
   ],
   "outputs": [
    {
     "name": "stdout",
     "output_type": "stream",
     "text": [
      "Good Air Quality\n"
     ]
    }
   ],
   "execution_count": 19
  },
  {
   "cell_type": "markdown",
   "id": "e2dddb35",
   "metadata": {},
   "source": [
    "#  \n",
    "\n",
    "<div align=\"center\" style=\" font-size: 80%; text-align: center; margin: 0 auto\">\n",
    "<img src=\"https://raw.githubusercontent.com/Explore-AI/Pictures/refs/heads/master/ALX_banners/ALX_Navy.png\"  style=\"width:140px\";/>\n",
    "</div>"
   ]
  }
 ],
 "metadata": {
  "kernelspec": {
   "display_name": "Python 3 (ipykernel)",
   "language": "python",
   "name": "python3"
  },
  "language_info": {
   "codemirror_mode": {
    "name": "ipython",
    "version": 3
   },
   "file_extension": ".py",
   "mimetype": "text/x-python",
   "name": "python",
   "nbconvert_exporter": "python",
   "pygments_lexer": "ipython3",
   "version": "3.11.5"
  }
 },
 "nbformat": 4,
 "nbformat_minor": 5
}
