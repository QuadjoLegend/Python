{
 "cells": [
  {
   "cell_type": "markdown",
   "id": "1a8f72ba",
   "metadata": {},
   "source": [
    "<div align=\"center\" style=\" font-size: 80%; text-align: center; margin: 0 auto\">\n",
    "<img src=\"https://raw.githubusercontent.com/Explore-AI/Pictures/master/Python-Notebook-Banners/Exercise.png\"  style=\"display: block; margin-left: auto; margin-right: auto;\";/>\n",
    "</div>"
   ]
  },
  {
   "cell_type": "markdown",
   "id": "f662d169",
   "metadata": {},
   "source": [
    "# Exercise: Tuples\n",
    ""
   ]
  },
  {
   "cell_type": "markdown",
   "id": "3fffe403",
   "metadata": {},
   "source": [
    "In this exercise, we are going to solve problems involving tuples."
   ]
  },
  {
   "cell_type": "markdown",
   "id": "2d230d14",
   "metadata": {
    "tags": []
   },
   "source": [
    "## Learning objectives\n",
    "\n",
    "- Create, concatenate, and slice tuples.\n",
    "- Make use of tuple methods.\n",
    "- Unpack a tuple."
   ]
  },
  {
   "cell_type": "markdown",
   "id": "6d305bd2",
   "metadata": {},
   "source": [
    "## Exercises"
   ]
  },
  {
   "cell_type": "markdown",
   "id": "5a0b7683",
   "metadata": {
    "tags": []
   },
   "source": [
    "### Exercise 1\n",
    "\n",
    "1. Create a tuple named `tree_tuple` containing three elements: `8`, `'apple'`, and `'Granny Smith'`.\n"
   ]
  },
  {
   "cell_type": "code",
   "id": "ca40207e",
   "metadata": {
    "vscode": {
     "languageId": "plaintext"
    },
    "ExecuteTime": {
     "end_time": "2025-10-13T10:28:56.799258Z",
     "start_time": "2025-10-13T10:28:56.792678Z"
    }
   },
   "source": [
    "# insert your code here \n",
    "tree_tuple = (8, 'apple', 'Granny Smith')\n",
    "type(tree_tuple)\n"
   ],
   "outputs": [
    {
     "data": {
      "text/plain": [
       "tuple"
      ]
     },
     "execution_count": 12,
     "metadata": {},
     "output_type": "execute_result"
    }
   ],
   "execution_count": 12
  },
  {
   "cell_type": "markdown",
   "id": "5f37ca4c",
   "metadata": {},
   "source": [
    "Note: We can use the `type()` function to check that `tree_tuple` is, in fact, a tuple."
   ]
  },
  {
   "cell_type": "markdown",
   "id": "fb6d5acd",
   "metadata": {},
   "source": [
    "<br>\n",
    "\n",
    "2. Find the length of the tuple.\n"
   ]
  },
  {
   "cell_type": "code",
   "id": "0b5ccea5",
   "metadata": {
    "ExecuteTime": {
     "end_time": "2025-10-13T10:29:09.513863Z",
     "start_time": "2025-10-13T10:29:09.507417Z"
    }
   },
   "source": [
    "# insert your code here \n",
    "len(tree_tuple)\n"
   ],
   "outputs": [
    {
     "data": {
      "text/plain": [
       "3"
      ]
     },
     "execution_count": 13,
     "metadata": {},
     "output_type": "execute_result"
    }
   ],
   "execution_count": 13
  },
  {
   "cell_type": "markdown",
   "id": "83911c8e",
   "metadata": {},
   "source": [
    "<br>\n",
    "\n",
    "3. Access the second element, `'apple'`, in the `tree_tuple` using an index and assign the value to a variable called `fruit`. Print the variable. "
   ]
  },
  {
   "cell_type": "code",
   "id": "52f5bc48",
   "metadata": {
    "ExecuteTime": {
     "end_time": "2025-10-12T22:22:29.758907Z",
     "start_time": "2025-10-12T22:22:29.739110Z"
    }
   },
   "source": [
    "# insert your code here \n",
    "tree_tuple[1]\n"
   ],
   "outputs": [
    {
     "data": {
      "text/plain": [
       "'apple'"
      ]
     },
     "execution_count": 3,
     "metadata": {},
     "output_type": "execute_result"
    }
   ],
   "execution_count": 3
  },
  {
   "cell_type": "markdown",
   "id": "ab6f589c",
   "metadata": {},
   "source": [
    "<br>\n",
    "\n",
    "4. Attempt to change the value of `'apple'` in `tree_tuple` to `'pear'` using assignment.\n"
   ]
  },
  {
   "cell_type": "code",
   "id": "0eb3a78f",
   "metadata": {
    "ExecuteTime": {
     "end_time": "2025-10-12T22:24:15.613774Z",
     "start_time": "2025-10-12T22:24:14.831936Z"
    }
   },
   "source": [
    " # insert your code here\n",
    "tree_tuple[0] = 'pear'\n"
   ],
   "outputs": [
    {
     "ename": "TypeError",
     "evalue": "'tuple' object does not support item assignment",
     "output_type": "error",
     "traceback": [
      "\u001B[31m---------------------------------------------------------------------------\u001B[39m",
      "\u001B[31mTypeError\u001B[39m                                 Traceback (most recent call last)",
      "\u001B[36mCell\u001B[39m\u001B[36m \u001B[39m\u001B[32mIn[4]\u001B[39m\u001B[32m, line 2\u001B[39m\n\u001B[32m      1\u001B[39m \u001B[38;5;66;03m# insert your code here \u001B[39;00m\n\u001B[32m----> \u001B[39m\u001B[32m2\u001B[39m \u001B[43mtree_tuple\u001B[49m\u001B[43m[\u001B[49m\u001B[32;43m0\u001B[39;49m\u001B[43m]\u001B[49m = \u001B[33m'\u001B[39m\u001B[33mpear\u001B[39m\u001B[33m'\u001B[39m\n",
      "\u001B[31mTypeError\u001B[39m: 'tuple' object does not support item assignment"
     ]
    }
   ],
   "execution_count": 4
  },
  {
   "cell_type": "markdown",
   "id": "ed3af8cf",
   "metadata": {},
   "source": [
    " If you got an error, it's exactly what should happen! **Tuples are immutable** and we cannot alter their contents after creation.\n",
    "   \n",
    " "
   ]
  },
  {
   "cell_type": "markdown",
   "id": "9d80cde9",
   "metadata": {},
   "source": [
    "<br>\n",
    "\n",
    "5. Create a new tuple called `text_only` and place the last two elements of `tree_tuple` into it."
   ]
  },
  {
   "cell_type": "code",
   "id": "21fbb221",
   "metadata": {
    "ExecuteTime": {
     "end_time": "2025-10-13T10:17:06.999033Z",
     "start_time": "2025-10-13T10:17:06.987576Z"
    }
   },
   "source": [
    "# insert your code here\n",
    "text_only = (tree_tuple[-2], tree_tuple[-1])\n",
    "print(text_only)\n",
    "\n"
   ],
   "outputs": [
    {
     "name": "stdout",
     "output_type": "stream",
     "text": [
      "('apple', 'Granny Smith')\n"
     ]
    },
    {
     "data": {
      "text/plain": [
       "tuple"
      ]
     },
     "execution_count": 6,
     "metadata": {},
     "output_type": "execute_result"
    }
   ],
   "execution_count": 6
  },
  {
   "cell_type": "markdown",
   "id": "5e148cac",
   "metadata": {},
   "source": [
    "<br>\n",
    "\n",
    "### Exercise 2\n",
    "\n",
    "1. Create two tuples: `fruit_summer` and `fruit_winter`, with elements (`'peach'`, `'apricot'`, `'plum'`) and (`'lemon'`, `'orange'`, `'grapefruit'`), respectively. Print the tuples to screen in the same print statement.\n"
   ]
  },
  {
   "cell_type": "code",
   "id": "6aad0f85",
   "metadata": {
    "vscode": {
     "languageId": "plaintext"
    },
    "ExecuteTime": {
     "end_time": "2025-10-13T10:20:44.213327Z",
     "start_time": "2025-10-13T10:20:44.206428Z"
    }
   },
   "source": [
    "# insert your code here \n",
    "fruit_summer = ('peach', 'apricot', 'plum')\n",
    "fruit_winter = ('lemon', 'orange', 'grapefruit')\n",
    "print(fruit_summer, fruit_winter)\n"
   ],
   "outputs": [
    {
     "name": "stdout",
     "output_type": "stream",
     "text": [
      "('peach', 'apricot', 'plum') ('lemon', 'orange', 'grapefruit')\n"
     ]
    }
   ],
   "execution_count": 7
  },
  {
   "cell_type": "markdown",
   "id": "7baad7aa",
   "metadata": {},
   "source": [
    "<br>\n",
    "\n",
    "2. Combine these following two tuples, `fruit_summer` and `fruit_winter`, to form a new tuple, `all_fruit`. Print the new tuple to the screen."
   ]
  },
  {
   "cell_type": "code",
   "id": "7dd8dce1",
   "metadata": {
    "ExecuteTime": {
     "end_time": "2025-10-13T10:21:40.474695Z",
     "start_time": "2025-10-13T10:21:40.467564Z"
    }
   },
   "source": [
    "# insert your code here \n",
    "all_fruit = fruit_summer + fruit_winter\n",
    "print(all_fruit)\n"
   ],
   "outputs": [
    {
     "name": "stdout",
     "output_type": "stream",
     "text": [
      "('peach', 'apricot', 'plum', 'lemon', 'orange', 'grapefruit')\n"
     ]
    }
   ],
   "execution_count": 8
  },
  {
   "cell_type": "markdown",
   "id": "607ed006",
   "metadata": {},
   "source": [
    "<br>\n",
    "\n",
    "3. Confirm how many times the element `'peach'` appears in `all_fruit`."
   ]
  },
  {
   "cell_type": "code",
   "id": "5fa8890d",
   "metadata": {
    "ExecuteTime": {
     "end_time": "2025-10-13T10:22:37.435122Z",
     "start_time": "2025-10-13T10:22:37.421677Z"
    }
   },
   "source": [
    "# insert your code here \n",
    "all_fruit.count('peach')\n"
   ],
   "outputs": [
    {
     "data": {
      "text/plain": [
       "1"
      ]
     },
     "execution_count": 9,
     "metadata": {},
     "output_type": "execute_result"
    }
   ],
   "execution_count": 9
  },
  {
   "cell_type": "markdown",
   "id": "616c87fe",
   "metadata": {},
   "source": [
    "<br>\n",
    "\n",
    "4. Suppose we have the `combined_info` tuple shown in the block of code below, containing three elements – the colour of the fruit, the age of the tree, and the type of tree. We'd however like to work with these elements individually and need to create variables (colour, age, tree_type) for each of the elements in the tuple.  "
   ]
  },
  {
   "cell_type": "code",
   "id": "ae5c21c1",
   "metadata": {
    "ExecuteTime": {
     "end_time": "2025-10-13T10:26:38.811685Z",
     "start_time": "2025-10-13T10:26:38.803896Z"
    }
   },
   "source": [
    "# combined_info tuple\n",
    "combined_info = ('yellow', 5, 'lemon')\n",
    "\n",
    "# insert your code here \n",
    "colour, age, tree_type = combined_info\n",
    "print(colour, age, tree_type)"
   ],
   "outputs": [
    {
     "name": "stdout",
     "output_type": "stream",
     "text": [
      "yellow 5 lemon\n"
     ]
    }
   ],
   "execution_count": 11
  },
  {
   "cell_type": "markdown",
   "id": "68a84035",
   "metadata": {},
   "source": [
    "Did you use an index to assign the values to variables? If so, also take a look at the solution provided later in this notebook for a fast way of assigning tuple elements to variables! "
   ]
  },
  {
   "cell_type": "markdown",
   "id": "fe04494e",
   "metadata": {},
   "source": [
    "<br>\n",
    "\n",
    "## Solutions"
   ]
  },
  {
   "cell_type": "markdown",
   "id": "6c41349e",
   "metadata": {},
   "source": [
    "### Exercise 1\n",
    "\n",
    "1. Create a tuple named `tree_tuple` containing three elements: `8`, `'apple'`, and `'Granny Smith'`.\n",
    "\n",
    "In order to create our tuple, we enclose the elements in **round brackets ()** and assign it to our variable."
   ]
  },
  {
   "cell_type": "code",
   "execution_count": null,
   "id": "8b8b08f6",
   "metadata": {
    "vscode": {
     "languageId": "plaintext"
    }
   },
   "outputs": [],
   "source": [
    "# assign value to the tree_tuple\n",
    "tree_tuple = (8, 'apple', 'Granny Smith')    \n",
    "\n",
    "# see what it looks like printed\n",
    "print(tree_tuple)\n"
   ]
  },
  {
   "cell_type": "code",
   "execution_count": null,
   "id": "3e3b761d",
   "metadata": {},
   "outputs": [],
   "source": [
    "# confirm that we have created a tuple using the `type()` function\n",
    "type(tree_tuple)"
   ]
  },
  {
   "cell_type": "markdown",
   "id": "24ee3fd8",
   "metadata": {},
   "source": [
    "<br>\n",
    "\n",
    "2. Find the length of the tuple.\n",
    "\n",
    "We can use one of the built-in functions Python provides, `len()`, to determine the number of elements in the tuple. "
   ]
  },
  {
   "cell_type": "code",
   "execution_count": null,
   "id": "8efe03f8",
   "metadata": {},
   "outputs": [],
   "source": [
    "len(tree_tuple)\n"
   ]
  },
  {
   "cell_type": "markdown",
   "id": "6ca8d7ce",
   "metadata": {},
   "source": [
    "<br>\n",
    "\n",
    "3. Access the second element, `'apple'`, in the `tree_tuple` using an index and assign the value to a variable called `fruit`. Print the variable. \n",
    "\n",
    "The index for a tuple starts at 0, meaning that in order to access the 2nd element, we should refer to position 1 in the square brackets."
   ]
  },
  {
   "cell_type": "code",
   "execution_count": null,
   "id": "02f24ec0",
   "metadata": {},
   "outputs": [],
   "source": [
    "fruit = tree_tuple[1]\n",
    "print(fruit)"
   ]
  },
  {
   "cell_type": "markdown",
   "id": "2aca53ff",
   "metadata": {},
   "source": [
    "<br>\n",
    "\n",
    "4. Attempt to change the value of `'apple'` in `tree_tuple` to `'pear'` using assignment.\n",
    "\n",
    "If tuples were mutable, we would be able to assign a value to an index. However, as we can see in the error message below, **tuples do not support item assignment** because they are **immutable**. The only way to change the values in a tuple is to reassign all the values to the variable."
   ]
  },
  {
   "cell_type": "code",
   "execution_count": null,
   "id": "2def0376",
   "metadata": {},
   "outputs": [],
   "source": [
    "tree_tuple[1] = 'pear'"
   ]
  },
  {
   "cell_type": "markdown",
   "id": "69d06228",
   "metadata": {},
   "source": [
    "<br>\n",
    "\n",
    "5. Create a new tuple called `text_only` and place the last two elements of `tree_tuple` into it.\n",
    "\n",
    "Remember that the **first element** we want to include has an **index value of 1**, and as such, our index slice starts there. \n",
    "\n",
    "An easy way to check whether we sliced correctly is by subtracting the first part of our slice from the second `(3 minus 1)`, which is equal to two elements in the new tuple. "
   ]
  },
  {
   "cell_type": "code",
   "execution_count": null,
   "id": "cf49efda",
   "metadata": {},
   "outputs": [],
   "source": [
    "# insert your code here \n",
    "text_only = tree_tuple[1:3]\n",
    "print(text_only)\n"
   ]
  },
  {
   "cell_type": "code",
   "execution_count": null,
   "id": "43343db6",
   "metadata": {},
   "outputs": [],
   "source": [
    "# Another solution makes use of negative indexing, leaving the second element empty\n",
    "text_only = tree_tuple[-2:]\n",
    "print(text_only)"
   ]
  },
  {
   "cell_type": "markdown",
   "id": "c0b6b1b8",
   "metadata": {},
   "source": [
    "<br>\n",
    "\n",
    "### Exercise 2\n",
    "\n",
    "1. Create two tuples: `fruit_summer` and `fruit_winter`, with elements (`'peach'`, `'apricot'`, `'plum'`) and (`'lemon'`, `'orange'`, `'grapefruit'`), respectively. Print the tuples to screen in the same print statement.\n",
    "\n",
    "We can print tuples in a single print statement to screen, and they'll be printed in the same line.\n"
   ]
  },
  {
   "cell_type": "code",
   "execution_count": null,
   "id": "82247504",
   "metadata": {
    "vscode": {
     "languageId": "plaintext"
    }
   },
   "outputs": [],
   "source": [
    "# assigning the elements to two tuples\n",
    "fruit_summer = ('peach', 'apricot', 'plum')\n",
    "fruit_winter = ('lemon', 'orange', 'grapefruit')\n",
    "\n",
    "print(fruit_summer, fruit_winter)"
   ]
  },
  {
   "cell_type": "markdown",
   "id": "82412a31",
   "metadata": {},
   "source": [
    "<br>\n",
    "\n",
    "2. Combine these following two tuples, `fruit_summer` and `fruit_winter`, to form a new tuple, `all_fruit`. Print the new tuple to the screen.\n",
    "\n",
    "We can concatenate tuples in Python by using the `+` sign. The order in which the tuples are summed determines the order of the elements of the combined tuple. "
   ]
  },
  {
   "cell_type": "code",
   "execution_count": null,
   "id": "aa020a80",
   "metadata": {},
   "outputs": [],
   "source": [
    "# concatenate using + \n",
    "all_fruit = fruit_summer + fruit_winter\n",
    "\n",
    "print(all_fruit)"
   ]
  },
  {
   "cell_type": "markdown",
   "id": "e8fef2c3",
   "metadata": {},
   "source": [
    "<br>\n",
    "\n",
    "3. Confirm how many times the element `'plum'` appears in `all_fruit`.\n",
    "\n",
    "We call the `count()` method to state which element we are interested in counting. This is a useful way to determine whether a tuple contains duplicates. "
   ]
  },
  {
   "cell_type": "code",
   "execution_count": null,
   "id": "03c4f754",
   "metadata": {},
   "outputs": [],
   "source": [
    "# use count method on all_fruit tuple\n",
    "all_fruit.count('plum')\n"
   ]
  },
  {
   "cell_type": "markdown",
   "id": "de3a5406",
   "metadata": {},
   "source": [
    "<br>\n",
    "\n",
    "4. Suppose we have the `combined_info` tuple shown in the block of code below, containing three elements – the colour of the fruit, the age of the tree, and the type of tree. We'd however like to work with these elements individually and need to create variables (colour, age, tree_type) for each of the elements in the tuple.  \n",
    "\n"
   ]
  },
  {
   "cell_type": "code",
   "execution_count": null,
   "id": "33e49e27",
   "metadata": {},
   "outputs": [],
   "source": [
    "# combined_info tuple\n",
    "combined_info = ('yellow', 5, 'lemon')\n",
    "\n",
    "# insert your code here \n",
    "colour, age, tree_type = combined_info"
   ]
  },
  {
   "cell_type": "markdown",
   "id": "01f2a9c9",
   "metadata": {},
   "source": [
    "By assigning a tuple directly to the variables in a single line, you can skip repeating assignments and the need to index elements individually. Note that the order determines the assignment. This functionality will be especially useful when dealing with functions."
   ]
  },
  {
   "cell_type": "code",
   "execution_count": null,
   "id": "b09b9ba0",
   "metadata": {},
   "outputs": [],
   "source": [
    "print(colour, age, tree_type)"
   ]
  },
  {
   "cell_type": "code",
   "execution_count": null,
   "id": "e1ef209f",
   "metadata": {},
   "outputs": [],
   "source": [
    "# the alternative, but longer solution\n",
    "colour_index = combined_info[0]\n",
    "age_index = combined_info[1]\n",
    "type_index = combined_info[2]\n",
    "\n",
    "print(colour_index, age_index, type_index)"
   ]
  },
  {
   "cell_type": "markdown",
   "id": "e9956efe",
   "metadata": {
    "tags": []
   },
   "source": [
    "<br>\n",
    "\n",
    "## Summary\n",
    "\n",
    "Tuples are simple data structures and are especially useful when storing a **small number of elements** that need to be accessed during the course of a program. Remember to look at the Python documentation on tuples for more information and examples!"
   ]
  },
  {
   "cell_type": "markdown",
   "id": "26fd094b-0fee-46f1-a4b8-73766813c42b",
   "metadata": {
    "tags": []
   },
   "source": [
    "#  \n",
    "\n",
    "<div align=\"center\" style=\" font-size: 80%; text-align: center; margin: 0 auto\">\n",
    "<img src=\"https://raw.githubusercontent.com/Explore-AI/Pictures/refs/heads/master/ALX_banners/ALX_Navy.png\"  style=\"width:140px\";/>\n",
    "</div>"
   ]
  }
 ],
 "metadata": {
  "kernelspec": {
   "display_name": "Python 3 (ipykernel)",
   "language": "python",
   "name": "python3"
  },
  "language_info": {
   "codemirror_mode": {
    "name": "ipython",
    "version": 3
   },
   "file_extension": ".py",
   "mimetype": "text/x-python",
   "name": "python",
   "nbconvert_exporter": "python",
   "pygments_lexer": "ipython3",
   "version": "3.11.5"
  }
 },
 "nbformat": 4,
 "nbformat_minor": 5
}
