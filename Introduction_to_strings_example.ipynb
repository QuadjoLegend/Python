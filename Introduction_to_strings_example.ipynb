{
 "cells": [
  {
   "cell_type": "markdown",
   "metadata": {},
   "source": [
    "<div align=\"center\" style=\" font-size: 80%; text-align: center; margin: 0 auto\">\n",
    "<img src=\"https://raw.githubusercontent.com/Explore-AI/Pictures/master/Python-Notebook-Banners/Examples.png\"  style=\"display: block; margin-left: auto; margin-right: auto;\";/>\n",
    "</div>"
   ],
   "id": "71031c6d7d5021e0"
  },
  {
   "cell_type": "markdown",
   "id": "f662d169",
   "metadata": {},
   "source": [
    "# Examples: Introduction to strings\n",
    ""
   ]
  },
  {
   "cell_type": "markdown",
   "id": "26af890c",
   "metadata": {},
   "source": [
    "In this train, we'll explore Python strings and their creation as well as special character utilisation. We will also delve into the sequential nature of strings and their immutability."
   ]
  },
  {
   "attachments": {},
   "cell_type": "markdown",
   "id": "2d230d14",
   "metadata": {
    "tags": []
   },
   "source": [
    "## Learning objectives\n",
    "\n",
    "In this example notebook we will be able to:\n",
    "- Create strings in Python using both single and double quotes, encompassing letters, numbers, symbols, and spaces.\n",
    "- Understand positive and negative indexing of strings, enabling the retrieval of individual characters using different counting directions.\n",
    "- Describe the immutability of strings in Python, realising that modifications to strings create new instances rather than altering existing ones."
   ]
  },
  {
   "cell_type": "markdown",
   "metadata": {},
   "source": [
    "## Outline\n",
    "  1. [Introduction](#introduction)\n",
    "  2. [Characteristics of strings](#characteristics-of-strings)\n",
    "     * [Sequence of characters](#1-sequence-of-characters)\n",
    "     * [Immutable](#2-immutable)\n",
    "  3. [The `print()` function](#the-print-function)\n",
    "  4. [Special characters](#special-characters)\n",
    "  5. [Examples](#examples)\n",
    "     * [Example 1: String indexing](#example-1-string-indexing)\n",
    "     * [Example 2: String concatenation](#example-2-string-concatenation)\n",
    "     * [Example 3: String manipulation](#example-3-string-manipulation)\n",
    "     * [Example 4: String methods](#example-4-string-methods)\n",
    "  6. [Summary](#summary)"
   ],
   "id": "f4d5584e7130ccd0"
  },
  {
   "cell_type": "markdown",
   "metadata": {},
   "source": [
    "## Introduction\n",
    "\n",
    "In Python, a string is a data type used to represent text. \n",
    "\n",
    "Strings in Python can be created using either single quotes (`'`) or double quotes (`\"`), and they can include letters, numbers, symbols, and even spaces."
   ],
   "id": "9c9b49e88e2a1ee"
  },
  {
   "cell_type": "code",
   "metadata": {
    "ExecuteTime": {
     "end_time": "2025-10-08T12:59:29.867344Z",
     "start_time": "2025-10-08T12:59:29.849326Z"
    }
   },
   "source": [
    "# Example: Creating a string variable\n",
    "\n",
    "single_quotes = 'Creating a string using single quotes.'\n",
    "double_quotes = \"Creating a string using double quotes.\"\n",
    "\n",
    "# Print the variables\n",
    "print(single_quotes)\n",
    "print(double_quotes)"
   ],
   "id": "50adc1e8b201ff34",
   "outputs": [
    {
     "name": "stdout",
     "output_type": "stream",
     "text": [
      "Creating a string using single quotes.\n",
      "Creating a string using double quotes.\n"
     ]
    }
   ],
   "execution_count": 1
  },
  {
   "attachments": {},
   "cell_type": "markdown",
   "metadata": {},
   "source": [
    "## Characteristics of strings\n",
    "\n",
    "The two characteristics of strings in Python include:\n",
    "\n",
    "### 1. Sequence of characters\n",
    "\n",
    "A string in Python is fundamentally a sequence of characters. This means that a string is an ordered collection where each character has a specific position or index within the sequence. \n",
    "\n",
    "<div align=\"center\" style=\" font-size: 80%; text-align: center; margin: 0 auto\">\n",
    "    <img src=\"https://raw.githubusercontent.com/Explore-AI/Pictures/master/Python_strings.jpg\"  style=\"width:50%\";/>\n",
    "    <br>\n",
    "    <br>\n",
    "    <em>Figure 1: String – a sequence of characters</em>\n",
    "</div>"
   ],
   "id": "acdf814483ac9cae"
  },
  {
   "cell_type": "markdown",
   "metadata": {},
   "source": [
    "In Python, string indexing allows us to access individual characters within a string. \n",
    "\n",
    "Positive and negative indexing are two ways to reference characters in a string, and they provide different ways to count positions.\n",
    "\n",
    "<div align=\"center\" style=\" font-size: 80%; text-align: center; margin: 0 auto\">\n",
    "<img src=\"https://raw.githubusercontent.com/Explore-AI/Pictures/master/Python_string_indexing.jpg\"  style=\"width:50%\";/>\n",
    "<br>\n",
    "<br>\n",
    "    <em>Figure 2: Positive and negative indexing</em>\n",
    "</div>"
   ],
   "id": "cad64e09aecbd056"
  },
  {
   "cell_type": "markdown",
   "metadata": {},
   "source": [
    "**Positive indexing** starts from the beginning of the string, therefore, string characters are accessed from left to right.\n",
    "The first character has an index of 0, the second has an index of 1, and so on."
   ],
   "id": "84363f0fab6bd726"
  },
  {
   "cell_type": "code",
   "metadata": {
    "ExecuteTime": {
     "end_time": "2025-10-08T13:08:08.500542Z",
     "start_time": "2025-10-08T13:08:08.486505Z"
    }
   },
   "source": [
    "# Example: positive indexing\n",
    "my_string = \"Hello, World!\"\n",
    "\n",
    "# Accessing characters using positive indexing\n",
    "first_char = my_string[0]\n",
    "second_char = my_string[1]\n",
    "last_char = my_string[12]\n",
    "\n",
    "print(\"Positive indexing:\")\n",
    "print(\"First character:\", first_char)\n",
    "print(\"Second character:\", second_char)\n",
    "print(\"Last character:\", last_char)"
   ],
   "id": "fa93647984714c99",
   "outputs": [
    {
     "name": "stdout",
     "output_type": "stream",
     "text": [
      "Positive indexing:\n",
      "First character: H\n",
      "Second character: e\n",
      "Last character: !\n"
     ]
    }
   ],
   "execution_count": 2
  },
  {
   "cell_type": "markdown",
   "metadata": {},
   "source": [
    "**Negative indexing**, on the other hand, starts from the end of the string, which means that characters are accessed from right to left. The last character has an index of -1, the second-to-last has an index of -2, and so on."
   ],
   "id": "db8e10c6dbfe9e0c"
  },
  {
   "cell_type": "code",
   "metadata": {
    "ExecuteTime": {
     "end_time": "2025-10-08T13:12:13.492783Z",
     "start_time": "2025-10-08T13:12:13.478543Z"
    }
   },
   "source": [
    "# Example: negative indexing\n",
    "# Accessing characters using negative indexing\n",
    "last_char_negative = my_string[-1]\n",
    "second_last_char = my_string[-2]\n",
    "first_char_negative = my_string[-13]\n",
    "\n",
    "print(\"\\nNegative indexing:\")\n",
    "print(\"Last character:\", last_char_negative)\n",
    "print(\"Second last character:\", second_last_char)\n",
    "print(\"First character:\", first_char_negative)"
   ],
   "id": "2c486ea1131998d0",
   "outputs": [
    {
     "name": "stdout",
     "output_type": "stream",
     "text": [
      "\n",
      "Negative indexing:\n",
      "Last character: !\n",
      "Second last character: d\n",
      "First character: H\n"
     ]
    }
   ],
   "execution_count": 3
  },
  {
   "cell_type": "markdown",
   "metadata": {},
   "source": [
    "Using both positive and negative indexing provides flexibility when working with strings, allowing us to choose the most convenient direction based on our specific task. "
   ],
   "id": "792062ba185d07ec"
  },
  {
   "attachments": {},
   "cell_type": "markdown",
   "metadata": {},
   "source": [
    "### 2. Immutable \n",
    "\n",
    "Strings in Python are immutable, meaning that once a string is created, it cannot be changed. However, we can create new strings based on the original one.\n",
    "\n",
    "For example, attempting to modify a character at a specific index in the string will raise a `TypeError` because strings do not support item assignment, which means we cannot change or modify individual characters of a string once it has been created."
   ],
   "id": "c3dade07d21269dd"
  },
  {
   "cell_type": "code",
   "metadata": {
    "ExecuteTime": {
     "end_time": "2025-10-08T13:14:55.115148Z",
     "start_time": "2025-10-08T13:14:53.485549Z"
    }
   },
   "source": [
    "# Example: immutability\n",
    "\n",
    "original_string = \"Hello, World!\"\n",
    "\n",
    "# The line below gives an error\n",
    "original_string[0] = 'h'"
   ],
   "id": "22339c88a237e8f1",
   "outputs": [
    {
     "ename": "TypeError",
     "evalue": "'str' object does not support item assignment",
     "output_type": "error",
     "traceback": [
      "\u001B[31m---------------------------------------------------------------------------\u001B[39m",
      "\u001B[31mTypeError\u001B[39m                                 Traceback (most recent call last)",
      "\u001B[36mCell\u001B[39m\u001B[36m \u001B[39m\u001B[32mIn[4]\u001B[39m\u001B[32m, line 6\u001B[39m\n\u001B[32m      3\u001B[39m original_string = \u001B[33m\"\u001B[39m\u001B[33mHello, World!\u001B[39m\u001B[33m\"\u001B[39m\n\u001B[32m      5\u001B[39m \u001B[38;5;66;03m# The line below gives an error\u001B[39;00m\n\u001B[32m----> \u001B[39m\u001B[32m6\u001B[39m \u001B[43moriginal_string\u001B[49m\u001B[43m[\u001B[49m\u001B[32;43m0\u001B[39;49m\u001B[43m]\u001B[49m = \u001B[33m'\u001B[39m\u001B[33mh\u001B[39m\u001B[33m'\u001B[39m\n",
      "\u001B[31mTypeError\u001B[39m: 'str' object does not support item assignment"
     ]
    }
   ],
   "execution_count": 4
  },
  {
   "cell_type": "markdown",
   "metadata": {},
   "source": [
    "Since we cannot modify a string in place, any operation that seems to modify a string actually creates a new string with the modified content. For example, concatenation or slicing operations result in a new string."
   ],
   "id": "6fe09340f3e385f3"
  },
  {
   "cell_type": "code",
   "metadata": {
    "ExecuteTime": {
     "end_time": "2025-10-08T13:15:20.916683Z",
     "start_time": "2025-10-08T13:15:20.908086Z"
    }
   },
   "source": [
    "# Example: Creating a new string by concatenation\n",
    "\n",
    "original_string = \"Hello\"\n",
    "new_string = original_string + \", World!\"\n",
    "\n",
    "# Print the new variable\n",
    "print(new_string)"
   ],
   "id": "d1dc3f914376df07",
   "outputs": [
    {
     "name": "stdout",
     "output_type": "stream",
     "text": [
      "Hello, World!\n"
     ]
    }
   ],
   "execution_count": 5
  },
  {
   "attachments": {},
   "cell_type": "markdown",
   "metadata": {},
   "source": [
    "But hold on, what if we modify the entire string instead of trying to change a specific character within the string? Wouldn't that mute the concept of immutability in strings?"
   ],
   "id": "24a902393b51c769"
  },
  {
   "cell_type": "code",
   "metadata": {
    "ExecuteTime": {
     "end_time": "2025-10-08T13:15:46.481618Z",
     "start_time": "2025-10-08T13:15:46.473532Z"
    }
   },
   "source": [
    "# Example: Modifying the entire string\n",
    "\n",
    "original_string = \"Hello, World!\"\n",
    "original_string = \"hello. World?\"\n",
    "\n",
    "# The variable's value has changed. \n",
    "# What does this mean for immutability in strings?\n",
    "print(original_string)"
   ],
   "id": "d3b56b9895609593",
   "outputs": [
    {
     "name": "stdout",
     "output_type": "stream",
     "text": [
      "hello. World?\n"
     ]
    }
   ],
   "execution_count": 6
  },
  {
   "cell_type": "markdown",
   "metadata": {},
   "source": [
    "In the same way we cannot modify individual characters in a string due to its immutability, we also cannot modify the original string in its entirety. Instead, we are creating a new string and assigning it to the variable `original_string`. \n",
    "\n",
    "Here's the breakdown:\n",
    "\n",
    "* `original_string = \"Hello, World!\"`\n",
    "  \n",
    "  This line creates a string object with the value `\"Hello, World!\"` and assigns it to the variable `original_string`.\n",
    "\n",
    "* `original_string = \"hello. World?\"`\n",
    "  \n",
    "  This line then creates a new string object with the value `\"hello. World?\"` and assigns it to the same variable `original_string`. \n",
    "  \n",
    "  This does not modify the original string `\"Hello, World!\"` in place. Instead, it *rebinds* the variable `original_string` to a new string object.\n",
    "\n",
    "* `print(original_string)`\n",
    "  \n",
    "  Consequently, this line prints the current value of `original_string`, which is the most recent string assigned to it: `\"hello. World?\"`."
   ],
   "id": "de735e6cf17ea120"
  },
  {
   "cell_type": "markdown",
   "metadata": {},
   "source": [
    "## The `print()` function\n",
    "\n",
    "The `print()` function in Python is a versatile tool that allows us to display information to the console. It is crucial for debugging, displaying results, and communicating with users. In this section, we will delve into the basics of using the `print()` function, showcasing its utility in printing both variables and strings, and how it can be employed for printing multiline outputs to enhance readability.\n",
    "\n",
    "The `print()` function is straightforward to use. It takes one or more arguments and prints them to the console. Let's start with a simple example:"
   ],
   "id": "17a7408a6ff32f2d"
  },
  {
   "cell_type": "code",
   "metadata": {
    "ExecuteTime": {
     "end_time": "2025-10-08T13:21:13.716975Z",
     "start_time": "2025-10-08T13:21:13.707627Z"
    }
   },
   "source": [
    "# Example: basic use of print()\n",
    "\n",
    "print(\"Hello, Python!\")"
   ],
   "id": "7848ae7b155b5e93",
   "outputs": [
    {
     "name": "stdout",
     "output_type": "stream",
     "text": [
      "Hello, Python!\n"
     ]
    }
   ],
   "execution_count": 7
  },
  {
   "cell_type": "markdown",
   "metadata": {},
   "source": [
    "We'll often need to display the values stored in variables or combine them with strings for meaningful output."
   ],
   "id": "feaff5bdd026f940"
  },
  {
   "cell_type": "code",
   "metadata": {
    "ExecuteTime": {
     "end_time": "2025-10-08T13:22:51.601384Z",
     "start_time": "2025-10-08T13:22:51.593946Z"
    }
   },
   "source": [
    "# Example: combining strings and variables\n",
    "\n",
    "name = \"Alice\"\n",
    "age = 25\n",
    "\n",
    "print(\"Name:\", name)\n",
    "print(\"Age:\", age)"
   ],
   "id": "4d658bc127eb50d5",
   "outputs": [
    {
     "name": "stdout",
     "output_type": "stream",
     "text": [
      "Name: Alice\n",
      "Age: 25\n"
     ]
    }
   ],
   "execution_count": 8
  },
  {
   "cell_type": "markdown",
   "metadata": {},
   "source": [
    "To enhance the readability of output, especially when dealing with complex information or structured data, multiline outputs are beneficial. Python allows for multiline strings using triple quotes (`'''` or `\"\"\"`):"
   ],
   "id": "2901aa889103df11"
  },
  {
   "cell_type": "code",
   "metadata": {
    "ExecuteTime": {
     "end_time": "2025-10-08T13:24:12.951222Z",
     "start_time": "2025-10-08T13:24:12.942542Z"
    }
   },
   "source": [
    "# Example: printing multiline output\n",
    "\n",
    "multiline_text = '''This is a multiline string.\n",
    "It spans multiple lines.\n",
    "Printed using the print() function.'''\n",
    "print(multiline_text)"
   ],
   "id": "285e5bcb5e6417cf",
   "outputs": [
    {
     "name": "stdout",
     "output_type": "stream",
     "text": [
      "This is a multiline string.\n",
      "It spans multiple lines.\n",
      "Printed using the print() function.\n"
     ]
    }
   ],
   "execution_count": 9
  },
  {
   "cell_type": "markdown",
   "metadata": {},
   "source": [
    "## Special characters\n",
    "\n",
    "Special characters play a crucial role in enhancing the flexibility and expressiveness of strings. They are characters that, when included in a string, carry a specific meaning beyond their literal representation. Some common special characters include:\n",
    "\n",
    "| Character | Name | Function |\n",
    "|---|---|---|\n",
    "| '\\n' | Newline | Inserts a new line in a string. Useful for structuring text output or displaying information on separate lines. |\n",
    "| '\\t' | Tab | Creates horizontal spacing within a string. Valuable for aligning text or data in a visually organised manner. |\n",
    "| '\\\\' | Backslash | Acts as an escape character. Used when including special characters in a string without triggering their usual meaning. For example, to include a literal backslash in a string, we would use '\\\\'. |\n",
    "| '\\'' | Single quote | Used within strings declared with single quotes. Prevents confusion with the opening and closing of the string when a single quote needs to be included. |\n",
    "| '\"' | Double quote | Used within strings declared with double quotes. Prevents ambiguity and allows the inclusion of double quotes without prematurely ending the string. |\n",
    "| '\\r' | Carriage return | Moves the cursor to the beginning of the line without advancing to the next line. Useful for overwriting or modifying existing text. |\n",
    "| '\\b' | Backspace | Removes the preceding character. Often used for editing or correcting input. |\n",
    "| '\\a' | Alert | Produces an audible or visible alert. Its effectiveness may vary across different platforms. |\n",
    "| '\\ooo' | Octal representation | Represents a character using its octal value. For example, '\\110' represents the character 'H'. |\n",
    "| '\\xhh' | Hexadecimal representation | Represents a character using its hexadecimal value. For example, '\\x48' represents the character 'H'. |\n",
    "<div align=\"center\">\n",
    "    <em style=\"align:center\">Table 1: Special characters</em>\n",
    "</div>\n",
    "\n",
    "Understanding these special characters and their functions is crucial for effective string manipulation in Python."
   ],
   "id": "5c185702feccb2a1"
  },
  {
   "cell_type": "code",
   "metadata": {
    "ExecuteTime": {
     "end_time": "2025-10-08T13:34:57.219529Z",
     "start_time": "2025-10-08T13:34:57.209359Z"
    }
   },
   "source": [
    "# Example: newline (\\n)\n",
    "\n",
    "print(\"Hello,\\nWorld!\")"
   ],
   "id": "fc634e6bfe86e8a",
   "outputs": [
    {
     "name": "stdout",
     "output_type": "stream",
     "text": [
      "Hello,\n",
      "World!\n"
     ]
    }
   ],
   "execution_count": 10
  },
  {
   "cell_type": "code",
   "metadata": {
    "ExecuteTime": {
     "end_time": "2025-10-08T13:35:01.462626Z",
     "start_time": "2025-10-08T13:35:01.454161Z"
    }
   },
   "source": [
    "# Example: tab (\\t)\n",
    "\n",
    "print(\"Name:\\tJohn\\nAge:\\t25\")"
   ],
   "id": "16a1a734ac91d0f",
   "outputs": [
    {
     "name": "stdout",
     "output_type": "stream",
     "text": [
      "Name:\tJohn\n",
      "Age:\t25\n"
     ]
    }
   ],
   "execution_count": 11
  },
  {
   "cell_type": "code",
   "metadata": {
    "ExecuteTime": {
     "end_time": "2025-10-08T13:35:14.837027Z",
     "start_time": "2025-10-08T13:35:14.826404Z"
    }
   },
   "source": [
    "# Example: backslash (\\\\)\n",
    "\n",
    "print(\"This is a backslash: \\\\\")"
   ],
   "id": "e9f5162d5355dd51",
   "outputs": [
    {
     "name": "stdout",
     "output_type": "stream",
     "text": [
      "This is a backslash: \\\n"
     ]
    }
   ],
   "execution_count": 12
  },
  {
   "cell_type": "code",
   "metadata": {
    "ExecuteTime": {
     "end_time": "2025-10-08T13:35:27.613972Z",
     "start_time": "2025-10-08T13:35:27.606833Z"
    }
   },
   "source": [
    "# Example: single quote (\\')\n",
    "\n",
    "print('He said, \\'Hello!\\'')"
   ],
   "id": "94aaeecf0b9c3cd0",
   "outputs": [
    {
     "name": "stdout",
     "output_type": "stream",
     "text": [
      "He said, 'Hello!'\n"
     ]
    }
   ],
   "execution_count": 13
  },
  {
   "cell_type": "code",
   "metadata": {
    "ExecuteTime": {
     "end_time": "2025-10-08T13:35:52.092201Z",
     "start_time": "2025-10-08T13:35:52.085158Z"
    }
   },
   "source": [
    "# Example: double quote (\\\")\n",
    "\n",
    "print(\"She exclaimed, \\\"Wow!\\\"\")"
   ],
   "id": "35a84e1141984f93",
   "outputs": [
    {
     "name": "stdout",
     "output_type": "stream",
     "text": [
      "She exclaimed, \"Wow!\"\n"
     ]
    }
   ],
   "execution_count": 14
  },
  {
   "cell_type": "code",
   "metadata": {
    "ExecuteTime": {
     "end_time": "2025-10-08T13:36:04.827250Z",
     "start_time": "2025-10-08T13:36:04.822344Z"
    }
   },
   "source": [
    "# Example: carriage return (\\r)\n",
    "\n",
    "print(\"Overwrite\\rThis text.\")"
   ],
   "id": "6c0b18b2c9b1160d",
   "outputs": [
    {
     "name": "stdout",
     "output_type": "stream",
     "text": [
      "This text.\n"
     ]
    }
   ],
   "execution_count": 15
  },
  {
   "cell_type": "code",
   "metadata": {
    "ExecuteTime": {
     "end_time": "2025-10-08T13:36:20.375227Z",
     "start_time": "2025-10-08T13:36:20.367467Z"
    }
   },
   "source": [
    "# Example: backspace (\\b)\n",
    "\n",
    "print(\"Remove\\b This\")"
   ],
   "id": "d16236f66c337a91",
   "outputs": [
    {
     "name": "stdout",
     "output_type": "stream",
     "text": [
      "Remov This\n"
     ]
    }
   ],
   "execution_count": 16
  },
  {
   "cell_type": "code",
   "metadata": {
    "ExecuteTime": {
     "end_time": "2025-10-08T13:36:31.317658Z",
     "start_time": "2025-10-08T13:36:31.309142Z"
    }
   },
   "source": [
    "# Example: alert (\\a)\n",
    "\n",
    "print(\"This is an alert!\\a\")"
   ],
   "id": "efb75e0abedf0371",
   "outputs": [
    {
     "name": "stdout",
     "output_type": "stream",
     "text": [
      "This is an alert!\u0007\n"
     ]
    }
   ],
   "execution_count": 17
  },
  {
   "cell_type": "code",
   "metadata": {
    "ExecuteTime": {
     "end_time": "2025-10-08T13:37:40.907721Z",
     "start_time": "2025-10-08T13:37:40.881808Z"
    }
   },
   "source": [
    "# Example: octal representation (\\ooo)\n",
    "\n",
    "print(\"Octal representation: \\110\")"
   ],
   "id": "771f8548fbe8d88a",
   "outputs": [
    {
     "name": "stdout",
     "output_type": "stream",
     "text": [
      "Octal representation: H\n"
     ]
    }
   ],
   "execution_count": 24
  },
  {
   "cell_type": "code",
   "metadata": {
    "ExecuteTime": {
     "end_time": "2025-10-08T13:38:23.735119Z",
     "start_time": "2025-10-08T13:38:23.722846Z"
    }
   },
   "source": [
    "# Example: hexadecimal representation (\\xhh)\n",
    "\n",
    "print(\"Hexadecimal representation: \\x48\")"
   ],
   "id": "b58540b5f6f051af",
   "outputs": [
    {
     "name": "stdout",
     "output_type": "stream",
     "text": [
      "Hexadecimal representation: H\n"
     ]
    }
   ],
   "execution_count": 29
  },
  {
   "attachments": {},
   "cell_type": "markdown",
   "metadata": {},
   "source": [
    "## Examples\n",
    "\n",
    "Now that we have gone through the theory, let's get our hands dirty by trying out some example problems! \n",
    "\n"
   ],
   "id": "d769bcb33f9003f2"
  },
  {
   "cell_type": "markdown",
   "metadata": {},
   "source": [
    "### Example 1: String indexing \n",
    "\n",
    "Given the string below, perform the following tasks:\n",
    "\n",
    "1. Print the third character of the string using positive indexing.\n",
    "2. Print the last character of the string using negative indexing.\n",
    "3. Print a substring that includes characters from index 6 to 10 (inclusive)."
   ],
   "id": "ba9315168ab6ed9f"
  },
  {
   "cell_type": "code",
   "metadata": {
    "ExecuteTime": {
     "end_time": "2025-10-08T13:44:51.533560Z",
     "start_time": "2025-10-08T13:44:51.521028Z"
    }
   },
   "source": [
    "challenge_string = \"PythonIsAwesome!\"\n",
    "\n",
    "#task 1\n",
    "print(challenge_string[2])\n",
    "\n",
    "#task 2\n",
    "print(challenge_string[-1])\n",
    "\n",
    "#task 3\n",
    "print(challenge_string[6:11])\n",
    "# Your solution here..."
   ],
   "id": "269e7f1c41692d88",
   "outputs": [
    {
     "name": "stdout",
     "output_type": "stream",
     "text": [
      "t\n",
      "!\n",
      "IsAwe\n"
     ]
    }
   ],
   "execution_count": 32
  },
  {
   "cell_type": "code",
   "metadata": {
    "ExecuteTime": {
     "end_time": "2025-10-08T13:44:59.418989Z",
     "start_time": "2025-10-08T13:44:59.400332Z"
    }
   },
   "source": [
    "# Solution for Example 1\n",
    "challenge_string = \"PythonIsAwesome!\"\n",
    "\n",
    "# Task 1\n",
    "print(challenge_string[2])\n",
    "\n",
    "# Task 2\n",
    "print(challenge_string[-1])\n",
    "\n",
    "# Task 3\n",
    "print(challenge_string[6:11])"
   ],
   "id": "70e554234fd3535a",
   "outputs": [
    {
     "name": "stdout",
     "output_type": "stream",
     "text": [
      "t\n",
      "!\n",
      "IsAwe\n"
     ]
    }
   ],
   "execution_count": 33
  },
  {
   "cell_type": "markdown",
   "metadata": {},
   "source": [
    "### Example 2: String concatenation \n",
    "\n",
    "Concatenate these strings and print the result."
   ],
   "id": "96521b6f88f14418"
  },
  {
   "cell_type": "code",
   "metadata": {
    "ExecuteTime": {
     "end_time": "2025-10-08T13:45:42.965544Z",
     "start_time": "2025-10-08T13:45:42.956995Z"
    }
   },
   "source": [
    "string1 = \"Programming\"\n",
    "string2 = \" is fun!\"\n",
    "\n",
    "print(string1 + string2)\n",
    "# Your solution here..."
   ],
   "id": "b0db6f278d3ea14a",
   "outputs": [
    {
     "name": "stdout",
     "output_type": "stream",
     "text": [
      "Programming is fun!\n"
     ]
    }
   ],
   "execution_count": 34
  },
  {
   "cell_type": "code",
   "metadata": {
    "ExecuteTime": {
     "end_time": "2025-10-08T13:45:55.373052Z",
     "start_time": "2025-10-08T13:45:55.363754Z"
    }
   },
   "source": [
    "# Solution for Example 2\n",
    "string1 = \"Programming\"\n",
    "string2 = \" is fun!\"\n",
    "\n",
    "# Task\n",
    "result = string1 + string2\n",
    "print(result)"
   ],
   "id": "17d0de75746cc04b",
   "outputs": [
    {
     "name": "stdout",
     "output_type": "stream",
     "text": [
      "Programming is fun!\n"
     ]
    }
   ],
   "execution_count": 35
  },
  {
   "cell_type": "markdown",
   "metadata": {},
   "source": [
    "### Example 3: Special characters\n",
    "\n",
    "We are given the following information about special characters in strings. Using this knowledge, create a multiline string that includes the following information:\n",
    "\n",
    "* Your name and age on the first line.\n",
    "* A sentence with a newline character to separate lines.\n",
    "* A sentence with a tab character to align text.\n",
    "* A sentence containing a backslash character.\n",
    "* A sentence containing both single and double quotes.\n",
    "* A sentence using the carriage return character to overwrite part of the text.\n",
    "* A sentence with a backspace character to remove the preceding character.\n",
    "  \n",
    "Print the multiline string."
   ],
   "id": "97128897468948f0"
  },
  {
   "cell_type": "markdown",
   "metadata": {},
   "source": [
    "**Expected output:**\n",
    "\n",
    "`John, Age: 30`\n",
    "\n",
    "`This is a multiline string.`\n",
    " \n",
    "`Name:    John`\n",
    "\n",
    "`Age:     30`\n",
    "\n",
    "`This is a backslash: \\`\n",
    "\n",
    "`He said, 'Hello!'`\n",
    "\n",
    "`She exclaimed, \"Wow!\"`\n",
    "\n",
    "`Overwrite This text.`\n",
    "\n",
    "`Remove This`"
   ],
   "id": "34ff11071326d57"
  },
  {
   "cell_type": "code",
   "metadata": {
    "ExecuteTime": {
     "end_time": "2025-10-08T14:05:35.066384Z",
     "start_time": "2025-10-08T14:05:35.033426Z"
    }
   },
   "source": [
    "# Your solution here...\n",
    "multiline = '''Richard, Age:29\n",
    "This is a multiline string.\n",
    "Name:\\tRichard\n",
    "Age:\\t30\n",
    "This is a backslash: \\\\\n",
    "He said, 'Hello!'\n",
    "She exclaimed, \"Wow!\"\n",
    "Overwrite\\rThis text.\n",
    "Remove\\b This\n",
    "'''\n",
    "\n",
    "print(multiline)"
   ],
   "id": "484cd5aa34642eb",
   "outputs": [
    {
     "name": "stdout",
     "output_type": "stream",
     "text": [
      "Richard, Age:29\n",
      "This is a multiline string.\n",
      "Name:\tRichard\n",
      "Age:\t30\n",
      "This is a backslash: \\\n",
      "He said, 'Hello!'\n",
      "She exclaimed, \"Wow!\"\n",
      "This text.\n",
      "Remov This\n",
      "\n"
     ]
    }
   ],
   "execution_count": 36
  },
  {
   "cell_type": "code",
   "metadata": {
    "ExecuteTime": {
     "end_time": "2025-10-08T14:06:30.886520Z",
     "start_time": "2025-10-08T14:06:30.869374Z"
    }
   },
   "source": [
    "# Solution for Example 3\n",
    "# Creating a multiline string using special characters\n",
    "multiline_string = '''John, Age: 30\n",
    "This is a multiline string.\n",
    "Name:\\tJohn\n",
    "Age:\\t30\n",
    "This is a backslash: \\\\\n",
    "He said, 'Hello!'\n",
    "She exclaimed, \"Wow!\"\n",
    "Overwrite\\rThis text.\n",
    "Remove\\b This\n",
    "'''\n",
    "\n",
    "# Printing the multiline string\n",
    "print(multiline_string)\n"
   ],
   "id": "468f01b117ea781a",
   "outputs": [
    {
     "name": "stdout",
     "output_type": "stream",
     "text": [
      "John, Age: 30\n",
      "This is a multiline string.\n",
      "Name:\tJohn\n",
      "Age:\t30\n",
      "This is a backslash: \\\n",
      "He said, 'Hello!'\n",
      "She exclaimed, \"Wow!\"\n",
      "This text.\n",
      "Remov This\n",
      "\n"
     ]
    }
   ],
   "execution_count": 37
  },
  {
   "cell_type": "markdown",
   "id": "e9956efe",
   "metadata": {
    "tags": []
   },
   "source": [
    "## Summary\n",
    "\n",
    "Strings in Python represent text and can be created with single or double quotes. They are sequences of characters, accessed through positive or negative indexing. Strings are immutable, meaning they can't be changed in place, but new strings can be created based on the original. The `print()` function is essential for displaying information. Special characters enhance string flexibility, and string manipulation includes techniques like concatenation, replication, and slicing. "
   ]
  },
  {
   "cell_type": "markdown",
   "id": "26fd094b-0fee-46f1-a4b8-73766813c42b",
   "metadata": {
    "tags": []
   },
   "source": [
    "#  \n",
    "\n",
    "<div align=\"center\" style=\" font-size: 80%; text-align: center; margin: 0 auto\">\n",
    "<img src=\"https://raw.githubusercontent.com/Explore-AI/Pictures/refs/heads/master/ALX_banners/ALX_Navy.png\"  style=\"width:140px\";/>\n",
    "</div>"
   ]
  }
 ],
 "metadata": {
  "kernelspec": {
   "display_name": "Python 3 (ipykernel)",
   "language": "python",
   "name": "python3"
  },
  "language_info": {
   "codemirror_mode": {
    "name": "ipython",
    "version": 3
   },
   "file_extension": ".py",
   "mimetype": "text/x-python",
   "name": "python",
   "nbconvert_exporter": "python",
   "pygments_lexer": "ipython3",
   "version": "3.9.6"
  }
 },
 "nbformat": 4,
 "nbformat_minor": 5
}
